{
 "cells": [
  {
   "cell_type": "code",
   "execution_count": 1,
   "metadata": {},
   "outputs": [],
   "source": [
    "# A brief about dataset"
   ]
  },
  {
   "cell_type": "code",
   "execution_count": 2,
   "metadata": {},
   "outputs": [
    {
     "data": {
      "text/plain": [
       "'\\nDriverless cars are getting closer to reality and at a faster pace than ever. But it is still a bit far fetched dream to have \\none in your garage. For the time being, there are still a lot of combustion and hybrid cars that roar around the road, for some\\nit chills. Though the overall data on sales of automobiles shows a huge drop in sales in the last couple of years, cars are \\nstill a big attraction for many. Cars are more than just a utility for many. They are often the pride and status of the family.\\nWe all have different tastes when it comes to owning a car or at least when thinking of owning one.\\n\\nWell here of course as the name suggests we are not concentrating on a new car, rather our interest is in knowing the prices of\\nused cars across the country whether it is a royal l luxury sedan or a cheap budget utility vehicle. In this hackathon, you \\nwill be predicting the costs of used cars given the data collected from various sources and distributed across various locations\\nin India.\\n\\nLet’s see if your data science skills can help you predict the price of a used car based on a given set of features discussed \\nbelow.\\n\\nSize of training set: 6,019 records\\n\\nSize of test set: 1,234 records\\n'"
      ]
     },
     "execution_count": 2,
     "metadata": {},
     "output_type": "execute_result"
    }
   ],
   "source": [
    "'''\n",
    "Driverless cars are getting closer to reality and at a faster pace than ever. But it is still a bit far fetched dream to have \n",
    "one in your garage. For the time being, there are still a lot of combustion and hybrid cars that roar around the road, for some\n",
    "it chills. Though the overall data on sales of automobiles shows a huge drop in sales in the last couple of years, cars are \n",
    "still a big attraction for many. Cars are more than just a utility for many. They are often the pride and status of the family.\n",
    "We all have different tastes when it comes to owning a car or at least when thinking of owning one.\n",
    "\n",
    "Well here of course as the name suggests we are not concentrating on a new car, rather our interest is in knowing the prices of\n",
    "used cars across the country whether it is a royal l luxury sedan or a cheap budget utility vehicle. In this hackathon, you \n",
    "will be predicting the costs of used cars given the data collected from various sources and distributed across various locations\n",
    "in India.\n",
    "\n",
    "Let’s see if your data science skills can help you predict the price of a used car based on a given set of features discussed \n",
    "below.\n",
    "\n",
    "Size of training set: 6,019 records\n",
    "\n",
    "Size of test set: 1,234 records\n",
    "'''"
   ]
  },
  {
   "cell_type": "code",
   "execution_count": 3,
   "metadata": {},
   "outputs": [],
   "source": [
    "# Importing all required libraries"
   ]
  },
  {
   "cell_type": "code",
   "execution_count": 1,
   "metadata": {},
   "outputs": [],
   "source": [
    "import numpy as np\n",
    "import pandas as pd\n",
    "import matplotlib.pyplot as plt\n",
    "%matplotlib inline\n",
    "import seaborn as sns\n",
    "from sklearn.preprocessing import LabelEncoder\n",
    "from sklearn import datasets\n",
    "from sklearn.metrics import r2_score\n",
    "from sklearn.preprocessing import StandardScaler\n",
    "from sklearn import linear_model\n",
    "from sklearn.metrics import mean_squared_error\n",
    "from sklearn.model_selection import train_test_split\n",
    "from sklearn import svm\n",
    "from sklearn.tree import DecisionTreeClassifier\n",
    "from sklearn.ensemble import RandomForestClassifier\n",
    "from sklearn.linear_model import LogisticRegression\n",
    "from sklearn.metrics import f1_score,roc_curve, auc ,accuracy_score,cohen_kappa_score,confusion_matrix,classification_report,recall_score,precision_score\n",
    "from pprint import pprint\n",
    "from sklearn.ensemble import RandomForestRegressor\n",
    "from sklearn.tree import DecisionTreeRegressor\n",
    "from sklearn.decomposition import PCA\n",
    "import sklearn.feature_selection\n",
    "from sklearn.neighbors import KNeighborsClassifier\n",
    "from sklearn.metrics import confusion_matrix\n",
    "from sklearn.cluster import KMeans\n",
    "from sklearn import preprocessing\n",
    "from sklearn.metrics import silhouette_score\n",
    "from sklearn.linear_model import LinearRegression\n",
    "from sklearn.metrics import mean_absolute_error\n",
    "from pandas.plotting import scatter_matrix\n",
    "from sklearn.discriminant_analysis import LinearDiscriminantAnalysis\n",
    "from sklearn.naive_bayes import GaussianNB\n",
    "from sklearn.model_selection import StratifiedKFold\n",
    "from sklearn.metrics import classification_report\n",
    "from sklearn.svm import SVC\n",
    "from sklearn.model_selection import cross_val_score\n",
    "from matplotlib import pyplot\n",
    "from sklearn.svm import SVR\n",
    "from sklearn.ensemble import BaggingClassifier\n",
    "from sklearn.ensemble import ExtraTreesClassifier\n",
    "from sklearn.ensemble import BaggingRegressor\n",
    "from sklearn.impute import SimpleImputer\n",
    "from sklearn.feature_selection import SelectKBest\n",
    "from sklearn.feature_selection import chi2\n",
    "from sklearn.preprocessing import PolynomialFeatures\n",
    "import statsmodels.formula.api as sm\n",
    "from statsmodels.stats.outliers_influence import variance_inflation_factor\n",
    "from sklearn.utils import resample\n",
    "from sklearn.ensemble import IsolationForest"
   ]
  },
  {
   "cell_type": "code",
   "execution_count": 5,
   "metadata": {},
   "outputs": [],
   "source": [
    "# Importing training dataset"
   ]
  },
  {
   "cell_type": "code",
   "execution_count": 2,
   "metadata": {},
   "outputs": [],
   "source": [
    "cs=pd.read_excel(\"C://Users//acer//Desktop//Intern//used_cars//Data_Train.xlsx\")"
   ]
  },
  {
   "cell_type": "code",
   "execution_count": 7,
   "metadata": {},
   "outputs": [],
   "source": [
    "# Importing test dataset"
   ]
  },
  {
   "cell_type": "code",
   "execution_count": 8,
   "metadata": {},
   "outputs": [],
   "source": [
    "sd=pd.read_excel(\"C://Users//acer//Desktop//Intern//used_cars//Data_Test.xlsx\")"
   ]
  },
  {
   "cell_type": "code",
   "execution_count": 9,
   "metadata": {},
   "outputs": [],
   "source": [
    "# concating both dataset "
   ]
  },
  {
   "cell_type": "code",
   "execution_count": 10,
   "metadata": {},
   "outputs": [],
   "source": [
    "cs=pd.concat([cs,sd],axis=0)"
   ]
  },
  {
   "cell_type": "code",
   "execution_count": 11,
   "metadata": {},
   "outputs": [],
   "source": [
    "# Looking at first few rows"
   ]
  },
  {
   "cell_type": "code",
   "execution_count": 12,
   "metadata": {},
   "outputs": [
    {
     "data": {
      "text/html": [
       "<div>\n",
       "<style scoped>\n",
       "    .dataframe tbody tr th:only-of-type {\n",
       "        vertical-align: middle;\n",
       "    }\n",
       "\n",
       "    .dataframe tbody tr th {\n",
       "        vertical-align: top;\n",
       "    }\n",
       "\n",
       "    .dataframe thead th {\n",
       "        text-align: right;\n",
       "    }\n",
       "</style>\n",
       "<table border=\"1\" class=\"dataframe\">\n",
       "  <thead>\n",
       "    <tr style=\"text-align: right;\">\n",
       "      <th></th>\n",
       "      <th>Name</th>\n",
       "      <th>Location</th>\n",
       "      <th>Year</th>\n",
       "      <th>Kilometers_Driven</th>\n",
       "      <th>Fuel_Type</th>\n",
       "      <th>Transmission</th>\n",
       "      <th>Owner_Type</th>\n",
       "      <th>Mileage</th>\n",
       "      <th>Engine</th>\n",
       "      <th>Power</th>\n",
       "      <th>Seats</th>\n",
       "      <th>New_Price</th>\n",
       "      <th>Price</th>\n",
       "    </tr>\n",
       "  </thead>\n",
       "  <tbody>\n",
       "    <tr>\n",
       "      <td>0</td>\n",
       "      <td>Maruti Wagon R LXI CNG</td>\n",
       "      <td>Mumbai</td>\n",
       "      <td>2010</td>\n",
       "      <td>72000</td>\n",
       "      <td>CNG</td>\n",
       "      <td>Manual</td>\n",
       "      <td>First</td>\n",
       "      <td>26.6 km/kg</td>\n",
       "      <td>998 CC</td>\n",
       "      <td>58.16 bhp</td>\n",
       "      <td>5.0</td>\n",
       "      <td>NaN</td>\n",
       "      <td>1.75</td>\n",
       "    </tr>\n",
       "    <tr>\n",
       "      <td>1</td>\n",
       "      <td>Hyundai Creta 1.6 CRDi SX Option</td>\n",
       "      <td>Pune</td>\n",
       "      <td>2015</td>\n",
       "      <td>41000</td>\n",
       "      <td>Diesel</td>\n",
       "      <td>Manual</td>\n",
       "      <td>First</td>\n",
       "      <td>19.67 kmpl</td>\n",
       "      <td>1582 CC</td>\n",
       "      <td>126.2 bhp</td>\n",
       "      <td>5.0</td>\n",
       "      <td>NaN</td>\n",
       "      <td>12.50</td>\n",
       "    </tr>\n",
       "    <tr>\n",
       "      <td>2</td>\n",
       "      <td>Honda Jazz V</td>\n",
       "      <td>Chennai</td>\n",
       "      <td>2011</td>\n",
       "      <td>46000</td>\n",
       "      <td>Petrol</td>\n",
       "      <td>Manual</td>\n",
       "      <td>First</td>\n",
       "      <td>18.2 kmpl</td>\n",
       "      <td>1199 CC</td>\n",
       "      <td>88.7 bhp</td>\n",
       "      <td>5.0</td>\n",
       "      <td>8.61 Lakh</td>\n",
       "      <td>4.50</td>\n",
       "    </tr>\n",
       "  </tbody>\n",
       "</table>\n",
       "</div>"
      ],
      "text/plain": [
       "                               Name Location  Year  Kilometers_Driven  \\\n",
       "0            Maruti Wagon R LXI CNG   Mumbai  2010              72000   \n",
       "1  Hyundai Creta 1.6 CRDi SX Option     Pune  2015              41000   \n",
       "2                      Honda Jazz V  Chennai  2011              46000   \n",
       "\n",
       "  Fuel_Type Transmission Owner_Type     Mileage   Engine      Power  Seats  \\\n",
       "0       CNG       Manual      First  26.6 km/kg   998 CC  58.16 bhp    5.0   \n",
       "1    Diesel       Manual      First  19.67 kmpl  1582 CC  126.2 bhp    5.0   \n",
       "2    Petrol       Manual      First   18.2 kmpl  1199 CC   88.7 bhp    5.0   \n",
       "\n",
       "   New_Price  Price  \n",
       "0        NaN   1.75  \n",
       "1        NaN  12.50  \n",
       "2  8.61 Lakh   4.50  "
      ]
     },
     "execution_count": 12,
     "metadata": {},
     "output_type": "execute_result"
    }
   ],
   "source": [
    "cs.head(3)"
   ]
  },
  {
   "cell_type": "code",
   "execution_count": 13,
   "metadata": {},
   "outputs": [],
   "source": [
    "# last few rows"
   ]
  },
  {
   "cell_type": "code",
   "execution_count": 14,
   "metadata": {},
   "outputs": [
    {
     "data": {
      "text/html": [
       "<div>\n",
       "<style scoped>\n",
       "    .dataframe tbody tr th:only-of-type {\n",
       "        vertical-align: middle;\n",
       "    }\n",
       "\n",
       "    .dataframe tbody tr th {\n",
       "        vertical-align: top;\n",
       "    }\n",
       "\n",
       "    .dataframe thead th {\n",
       "        text-align: right;\n",
       "    }\n",
       "</style>\n",
       "<table border=\"1\" class=\"dataframe\">\n",
       "  <thead>\n",
       "    <tr style=\"text-align: right;\">\n",
       "      <th></th>\n",
       "      <th>Name</th>\n",
       "      <th>Location</th>\n",
       "      <th>Year</th>\n",
       "      <th>Kilometers_Driven</th>\n",
       "      <th>Fuel_Type</th>\n",
       "      <th>Transmission</th>\n",
       "      <th>Owner_Type</th>\n",
       "      <th>Mileage</th>\n",
       "      <th>Engine</th>\n",
       "      <th>Power</th>\n",
       "      <th>Seats</th>\n",
       "      <th>New_Price</th>\n",
       "      <th>Price</th>\n",
       "    </tr>\n",
       "  </thead>\n",
       "  <tbody>\n",
       "    <tr>\n",
       "      <td>1231</td>\n",
       "      <td>Nissan Micra Diesel XV</td>\n",
       "      <td>Kolkata</td>\n",
       "      <td>2012</td>\n",
       "      <td>28000</td>\n",
       "      <td>Diesel</td>\n",
       "      <td>Manual</td>\n",
       "      <td>First</td>\n",
       "      <td>23.08 kmpl</td>\n",
       "      <td>1461 CC</td>\n",
       "      <td>63.1 bhp</td>\n",
       "      <td>5.0</td>\n",
       "      <td>NaN</td>\n",
       "      <td>NaN</td>\n",
       "    </tr>\n",
       "    <tr>\n",
       "      <td>1232</td>\n",
       "      <td>Volkswagen Polo GT TSI</td>\n",
       "      <td>Pune</td>\n",
       "      <td>2013</td>\n",
       "      <td>52262</td>\n",
       "      <td>Petrol</td>\n",
       "      <td>Automatic</td>\n",
       "      <td>Third</td>\n",
       "      <td>17.2 kmpl</td>\n",
       "      <td>1197 CC</td>\n",
       "      <td>103.6 bhp</td>\n",
       "      <td>5.0</td>\n",
       "      <td>NaN</td>\n",
       "      <td>NaN</td>\n",
       "    </tr>\n",
       "    <tr>\n",
       "      <td>1233</td>\n",
       "      <td>Mercedes-Benz E-Class 2009-2013 E 220 CDI Avan...</td>\n",
       "      <td>Kochi</td>\n",
       "      <td>2014</td>\n",
       "      <td>72443</td>\n",
       "      <td>Diesel</td>\n",
       "      <td>Automatic</td>\n",
       "      <td>First</td>\n",
       "      <td>10.0 kmpl</td>\n",
       "      <td>2148 CC</td>\n",
       "      <td>170 bhp</td>\n",
       "      <td>5.0</td>\n",
       "      <td>NaN</td>\n",
       "      <td>NaN</td>\n",
       "    </tr>\n",
       "  </tbody>\n",
       "</table>\n",
       "</div>"
      ],
      "text/plain": [
       "                                                   Name Location  Year  \\\n",
       "1231                             Nissan Micra Diesel XV  Kolkata  2012   \n",
       "1232                             Volkswagen Polo GT TSI     Pune  2013   \n",
       "1233  Mercedes-Benz E-Class 2009-2013 E 220 CDI Avan...    Kochi  2014   \n",
       "\n",
       "      Kilometers_Driven Fuel_Type Transmission Owner_Type     Mileage  \\\n",
       "1231              28000    Diesel       Manual      First  23.08 kmpl   \n",
       "1232              52262    Petrol    Automatic      Third   17.2 kmpl   \n",
       "1233              72443    Diesel    Automatic      First   10.0 kmpl   \n",
       "\n",
       "       Engine      Power  Seats New_Price  Price  \n",
       "1231  1461 CC   63.1 bhp    5.0       NaN    NaN  \n",
       "1232  1197 CC  103.6 bhp    5.0       NaN    NaN  \n",
       "1233  2148 CC    170 bhp    5.0       NaN    NaN  "
      ]
     },
     "execution_count": 14,
     "metadata": {},
     "output_type": "execute_result"
    }
   ],
   "source": [
    "cs.tail(3)"
   ]
  },
  {
   "cell_type": "code",
   "execution_count": null,
   "metadata": {},
   "outputs": [],
   "source": []
  },
  {
   "cell_type": "code",
   "execution_count": 15,
   "metadata": {},
   "outputs": [],
   "source": [
    "# looking at all columns"
   ]
  },
  {
   "cell_type": "code",
   "execution_count": 16,
   "metadata": {},
   "outputs": [
    {
     "data": {
      "text/plain": [
       "Index(['Name', 'Location', 'Year', 'Kilometers_Driven', 'Fuel_Type',\n",
       "       'Transmission', 'Owner_Type', 'Mileage', 'Engine', 'Power', 'Seats',\n",
       "       'New_Price', 'Price'],\n",
       "      dtype='object')"
      ]
     },
     "execution_count": 16,
     "metadata": {},
     "output_type": "execute_result"
    }
   ],
   "source": [
    "cs.columns"
   ]
  },
  {
   "cell_type": "code",
   "execution_count": 17,
   "metadata": {},
   "outputs": [],
   "source": [
    "# datatypes of all columns"
   ]
  },
  {
   "cell_type": "code",
   "execution_count": 18,
   "metadata": {},
   "outputs": [
    {
     "data": {
      "text/plain": [
       "Name                  object\n",
       "Location              object\n",
       "Year                   int64\n",
       "Kilometers_Driven      int64\n",
       "Fuel_Type             object\n",
       "Transmission          object\n",
       "Owner_Type            object\n",
       "Mileage               object\n",
       "Engine                object\n",
       "Power                 object\n",
       "Seats                float64\n",
       "New_Price             object\n",
       "Price                float64\n",
       "dtype: object"
      ]
     },
     "execution_count": 18,
     "metadata": {},
     "output_type": "execute_result"
    }
   ],
   "source": [
    "cs.dtypes"
   ]
  },
  {
   "cell_type": "code",
   "execution_count": 19,
   "metadata": {},
   "outputs": [],
   "source": [
    "# null values"
   ]
  },
  {
   "cell_type": "code",
   "execution_count": 20,
   "metadata": {},
   "outputs": [
    {
     "data": {
      "text/plain": [
       "Name                    0\n",
       "Location                0\n",
       "Year                    0\n",
       "Kilometers_Driven       0\n",
       "Fuel_Type               0\n",
       "Transmission            0\n",
       "Owner_Type              0\n",
       "Mileage                 2\n",
       "Engine                 46\n",
       "Power                  46\n",
       "Seats                  53\n",
       "New_Price            6247\n",
       "Price                1234\n",
       "dtype: int64"
      ]
     },
     "execution_count": 20,
     "metadata": {},
     "output_type": "execute_result"
    }
   ],
   "source": [
    "cs.isna().sum()"
   ]
  },
  {
   "cell_type": "code",
   "execution_count": 21,
   "metadata": {},
   "outputs": [],
   "source": [
    "# size of dataset"
   ]
  },
  {
   "cell_type": "code",
   "execution_count": 22,
   "metadata": {},
   "outputs": [
    {
     "data": {
      "text/plain": [
       "(7253, 13)"
      ]
     },
     "execution_count": 22,
     "metadata": {},
     "output_type": "execute_result"
    }
   ],
   "source": [
    "cs.shape"
   ]
  },
  {
   "cell_type": "code",
   "execution_count": 23,
   "metadata": {},
   "outputs": [],
   "source": [
    "# basic stats value of dataset"
   ]
  },
  {
   "cell_type": "code",
   "execution_count": 24,
   "metadata": {},
   "outputs": [
    {
     "data": {
      "text/html": [
       "<div>\n",
       "<style scoped>\n",
       "    .dataframe tbody tr th:only-of-type {\n",
       "        vertical-align: middle;\n",
       "    }\n",
       "\n",
       "    .dataframe tbody tr th {\n",
       "        vertical-align: top;\n",
       "    }\n",
       "\n",
       "    .dataframe thead th {\n",
       "        text-align: right;\n",
       "    }\n",
       "</style>\n",
       "<table border=\"1\" class=\"dataframe\">\n",
       "  <thead>\n",
       "    <tr style=\"text-align: right;\">\n",
       "      <th></th>\n",
       "      <th>Year</th>\n",
       "      <th>Kilometers_Driven</th>\n",
       "      <th>Seats</th>\n",
       "      <th>Price</th>\n",
       "    </tr>\n",
       "  </thead>\n",
       "  <tbody>\n",
       "    <tr>\n",
       "      <td>count</td>\n",
       "      <td>7253.000000</td>\n",
       "      <td>7.253000e+03</td>\n",
       "      <td>7200.000000</td>\n",
       "      <td>6019.000000</td>\n",
       "    </tr>\n",
       "    <tr>\n",
       "      <td>mean</td>\n",
       "      <td>2013.365366</td>\n",
       "      <td>5.869906e+04</td>\n",
       "      <td>5.279722</td>\n",
       "      <td>9.479468</td>\n",
       "    </tr>\n",
       "    <tr>\n",
       "      <td>std</td>\n",
       "      <td>3.254421</td>\n",
       "      <td>8.442772e+04</td>\n",
       "      <td>0.811660</td>\n",
       "      <td>11.187917</td>\n",
       "    </tr>\n",
       "    <tr>\n",
       "      <td>min</td>\n",
       "      <td>1996.000000</td>\n",
       "      <td>1.710000e+02</td>\n",
       "      <td>0.000000</td>\n",
       "      <td>0.440000</td>\n",
       "    </tr>\n",
       "    <tr>\n",
       "      <td>25%</td>\n",
       "      <td>2011.000000</td>\n",
       "      <td>3.400000e+04</td>\n",
       "      <td>5.000000</td>\n",
       "      <td>3.500000</td>\n",
       "    </tr>\n",
       "    <tr>\n",
       "      <td>50%</td>\n",
       "      <td>2014.000000</td>\n",
       "      <td>5.341600e+04</td>\n",
       "      <td>5.000000</td>\n",
       "      <td>5.640000</td>\n",
       "    </tr>\n",
       "    <tr>\n",
       "      <td>75%</td>\n",
       "      <td>2016.000000</td>\n",
       "      <td>7.300000e+04</td>\n",
       "      <td>5.000000</td>\n",
       "      <td>9.950000</td>\n",
       "    </tr>\n",
       "    <tr>\n",
       "      <td>max</td>\n",
       "      <td>2019.000000</td>\n",
       "      <td>6.500000e+06</td>\n",
       "      <td>10.000000</td>\n",
       "      <td>160.000000</td>\n",
       "    </tr>\n",
       "  </tbody>\n",
       "</table>\n",
       "</div>"
      ],
      "text/plain": [
       "              Year  Kilometers_Driven        Seats        Price\n",
       "count  7253.000000       7.253000e+03  7200.000000  6019.000000\n",
       "mean   2013.365366       5.869906e+04     5.279722     9.479468\n",
       "std       3.254421       8.442772e+04     0.811660    11.187917\n",
       "min    1996.000000       1.710000e+02     0.000000     0.440000\n",
       "25%    2011.000000       3.400000e+04     5.000000     3.500000\n",
       "50%    2014.000000       5.341600e+04     5.000000     5.640000\n",
       "75%    2016.000000       7.300000e+04     5.000000     9.950000\n",
       "max    2019.000000       6.500000e+06    10.000000   160.000000"
      ]
     },
     "execution_count": 24,
     "metadata": {},
     "output_type": "execute_result"
    }
   ],
   "source": [
    "cs.describe()"
   ]
  },
  {
   "cell_type": "code",
   "execution_count": 25,
   "metadata": {},
   "outputs": [],
   "source": [
    "# Data Engineering"
   ]
  },
  {
   "cell_type": "code",
   "execution_count": 26,
   "metadata": {},
   "outputs": [],
   "source": [
    "# Converting all column names in lower case for easy access"
   ]
  },
  {
   "cell_type": "code",
   "execution_count": 27,
   "metadata": {},
   "outputs": [],
   "source": [
    "cs.columns=map(str.lower,cs.columns)"
   ]
  },
  {
   "cell_type": "code",
   "execution_count": 28,
   "metadata": {},
   "outputs": [],
   "source": [
    "# Lets see how our data columns name look like"
   ]
  },
  {
   "cell_type": "code",
   "execution_count": 29,
   "metadata": {},
   "outputs": [
    {
     "data": {
      "text/plain": [
       "Index(['name', 'location', 'year', 'kilometers_driven', 'fuel_type',\n",
       "       'transmission', 'owner_type', 'mileage', 'engine', 'power', 'seats',\n",
       "       'new_price', 'price'],\n",
       "      dtype='object')"
      ]
     },
     "execution_count": 29,
     "metadata": {},
     "output_type": "execute_result"
    }
   ],
   "source": [
    "cs.columns"
   ]
  },
  {
   "cell_type": "code",
   "execution_count": 30,
   "metadata": {},
   "outputs": [],
   "source": [
    "# name : object"
   ]
  },
  {
   "cell_type": "code",
   "execution_count": 31,
   "metadata": {},
   "outputs": [
    {
     "data": {
      "text/plain": [
       "2041"
      ]
     },
     "execution_count": 31,
     "metadata": {},
     "output_type": "execute_result"
    }
   ],
   "source": [
    "len(cs.name.unique())"
   ]
  },
  {
   "cell_type": "code",
   "execution_count": 32,
   "metadata": {},
   "outputs": [
    {
     "data": {
      "text/plain": [
       "<matplotlib.collections.PathCollection at 0x1aa895d7438>"
      ]
     },
     "execution_count": 32,
     "metadata": {},
     "output_type": "execute_result"
    },
    {
     "data": {
      "image/png": "[encoded data removed]",
      "text/plain": [
       "<Figure size 1152x576 with 1 Axes>"
      ]
     },
     "metadata": {
      "needs_background": "light"
     },
     "output_type": "display_data"
    }
   ],
   "source": [
    "fig, ax = plt.subplots(figsize=(16,8))\n",
    "ax.scatter(cs[\"name\"],cs[\"price\"])"
   ]
  },
  {
   "cell_type": "code",
   "execution_count": 33,
   "metadata": {},
   "outputs": [],
   "source": [
    "# Lets apply label encoder here"
   ]
  },
  {
   "cell_type": "code",
   "execution_count": 34,
   "metadata": {},
   "outputs": [],
   "source": [
    "le=LabelEncoder()\n",
    "cs[\"name\"]=le.fit_transform(cs[\"name\"])"
   ]
  },
  {
   "cell_type": "code",
   "execution_count": 35,
   "metadata": {},
   "outputs": [],
   "source": [
    "# Location"
   ]
  },
  {
   "cell_type": "code",
   "execution_count": 36,
   "metadata": {},
   "outputs": [
    {
     "data": {
      "text/plain": [
       "array(['Mumbai', 'Pune', 'Chennai', 'Coimbatore', 'Hyderabad', 'Jaipur',\n",
       "       'Kochi', 'Kolkata', 'Delhi', 'Bangalore', 'Ahmedabad'],\n",
       "      dtype=object)"
      ]
     },
     "execution_count": 36,
     "metadata": {},
     "output_type": "execute_result"
    }
   ],
   "source": [
    "cs.location.unique()"
   ]
  },
  {
   "cell_type": "code",
   "execution_count": 37,
   "metadata": {},
   "outputs": [
    {
     "data": {
      "text/plain": [
       "<matplotlib.collections.PathCollection at 0x1aa8d4f3940>"
      ]
     },
     "execution_count": 37,
     "metadata": {},
     "output_type": "execute_result"
    },
    {
     "data": {
      "image/png": "[encoded data removed]",
      "text/plain": [
       "<Figure size 1152x576 with 1 Axes>"
      ]
     },
     "metadata": {
      "needs_background": "light"
     },
     "output_type": "display_data"
    }
   ],
   "source": [
    "fig, ax = plt.subplots(figsize=(16,8))\n",
    "ax.scatter(cs[\"location\"],cs[\"price\"])"
   ]
  },
  {
   "cell_type": "code",
   "execution_count": 38,
   "metadata": {},
   "outputs": [],
   "source": [
    "# Applying Label encoding"
   ]
  },
  {
   "cell_type": "code",
   "execution_count": 39,
   "metadata": {},
   "outputs": [],
   "source": [
    "le=LabelEncoder()\n",
    "cs[\"location\"]=le.fit_transform(cs[\"location\"])"
   ]
  },
  {
   "cell_type": "code",
   "execution_count": 40,
   "metadata": {},
   "outputs": [],
   "source": [
    "# Lets go directly to fuel type as all between variables are numeric and dont have null values"
   ]
  },
  {
   "cell_type": "code",
   "execution_count": 41,
   "metadata": {},
   "outputs": [
    {
     "data": {
      "text/plain": [
       "array(['CNG', 'Diesel', 'Petrol', 'LPG', 'Electric'], dtype=object)"
      ]
     },
     "execution_count": 41,
     "metadata": {},
     "output_type": "execute_result"
    }
   ],
   "source": [
    "cs.fuel_type.unique()"
   ]
  },
  {
   "cell_type": "code",
   "execution_count": 42,
   "metadata": {},
   "outputs": [
    {
     "data": {
      "text/plain": [
       "<matplotlib.collections.PathCollection at 0x1aa8d569da0>"
      ]
     },
     "execution_count": 42,
     "metadata": {},
     "output_type": "execute_result"
    },
    {
     "data": {
      "image/png": "[encoded data removed]",
      "text/plain": [
       "<Figure size 576x360 with 1 Axes>"
      ]
     },
     "metadata": {
      "needs_background": "light"
     },
     "output_type": "display_data"
    }
   ],
   "source": [
    "fig, ax = plt.subplots(figsize=(8,5))\n",
    "ax.scatter(cs[\"fuel_type\"],cs[\"price\"])"
   ]
  },
  {
   "cell_type": "code",
   "execution_count": 43,
   "metadata": {},
   "outputs": [],
   "source": [
    "# applying one hot encoding here "
   ]
  },
  {
   "cell_type": "code",
   "execution_count": 44,
   "metadata": {},
   "outputs": [],
   "source": [
    "fuel=pd.get_dummies(cs[\"fuel_type\"],prefix=\"fueltype_\",drop_first=True)"
   ]
  },
  {
   "cell_type": "code",
   "execution_count": 45,
   "metadata": {},
   "outputs": [],
   "source": [
    "cs=pd.concat([fuel,cs],axis=1)"
   ]
  },
  {
   "cell_type": "code",
   "execution_count": 46,
   "metadata": {},
   "outputs": [],
   "source": [
    "cs.drop(\"fuel_type\",axis=1,inplace=True)"
   ]
  },
  {
   "cell_type": "code",
   "execution_count": 47,
   "metadata": {},
   "outputs": [],
   "source": [
    "# Transmission"
   ]
  },
  {
   "cell_type": "code",
   "execution_count": 48,
   "metadata": {},
   "outputs": [
    {
     "data": {
      "text/plain": [
       "array(['Manual', 'Automatic'], dtype=object)"
      ]
     },
     "execution_count": 48,
     "metadata": {},
     "output_type": "execute_result"
    }
   ],
   "source": [
    "cs.transmission.unique()"
   ]
  },
  {
   "cell_type": "code",
   "execution_count": 49,
   "metadata": {},
   "outputs": [
    {
     "data": {
      "text/plain": [
       "<matplotlib.collections.PathCollection at 0x1aa8dab7780>"
      ]
     },
     "execution_count": 49,
     "metadata": {},
     "output_type": "execute_result"
    },
    {
     "data": {
      "image/png": "[encoded data removed]",
      "text/plain": [
       "<Figure size 432x288 with 1 Axes>"
      ]
     },
     "metadata": {
      "needs_background": "light"
     },
     "output_type": "display_data"
    }
   ],
   "source": [
    "fig,i=plt.subplots(figsize=(6,4))\n",
    "i.scatter(cs[\"transmission\"],cs[\"price\"])"
   ]
  },
  {
   "cell_type": "code",
   "execution_count": 50,
   "metadata": {},
   "outputs": [],
   "source": [
    "# OHE to be applied here"
   ]
  },
  {
   "cell_type": "code",
   "execution_count": 51,
   "metadata": {},
   "outputs": [],
   "source": [
    "trans=pd.get_dummies(cs[\"transmission\"],prefix=\"trans_\",drop_first=True)"
   ]
  },
  {
   "cell_type": "code",
   "execution_count": 52,
   "metadata": {},
   "outputs": [],
   "source": [
    "cs=pd.concat([trans,cs],axis=1)"
   ]
  },
  {
   "cell_type": "code",
   "execution_count": 53,
   "metadata": {},
   "outputs": [],
   "source": [
    "cs.drop(\"transmission\",axis=1,inplace=True)"
   ]
  },
  {
   "cell_type": "code",
   "execution_count": 54,
   "metadata": {},
   "outputs": [],
   "source": [
    "# owner type"
   ]
  },
  {
   "cell_type": "code",
   "execution_count": 55,
   "metadata": {},
   "outputs": [
    {
     "data": {
      "text/plain": [
       "array(['First', 'Second', 'Fourth & Above', 'Third'], dtype=object)"
      ]
     },
     "execution_count": 55,
     "metadata": {},
     "output_type": "execute_result"
    }
   ],
   "source": [
    "cs.owner_type.unique()"
   ]
  },
  {
   "cell_type": "code",
   "execution_count": 56,
   "metadata": {},
   "outputs": [
    {
     "data": {
      "text/plain": [
       "<matplotlib.collections.PathCollection at 0x1aa8eba4048>"
      ]
     },
     "execution_count": 56,
     "metadata": {},
     "output_type": "execute_result"
    },
    {
     "data": {
      "image/png": "[encoded data removed]",
      "text/plain": [
       "<Figure size 360x360 with 1 Axes>"
      ]
     },
     "metadata": {
      "needs_background": "light"
     },
     "output_type": "display_data"
    }
   ],
   "source": [
    "fig,i=plt.subplots(figsize=(5,5))\n",
    "i.scatter(cs[\"owner_type\"],cs[\"price\"])"
   ]
  },
  {
   "cell_type": "code",
   "execution_count": 57,
   "metadata": {},
   "outputs": [],
   "source": [
    "owner=pd.get_dummies(cs[\"owner_type\"],prefix=\"owner_\",drop_first=True)"
   ]
  },
  {
   "cell_type": "code",
   "execution_count": 58,
   "metadata": {},
   "outputs": [],
   "source": [
    "cs=pd.concat([owner,cs],axis=1)"
   ]
  },
  {
   "cell_type": "code",
   "execution_count": 59,
   "metadata": {},
   "outputs": [],
   "source": [
    "cs.drop(\"owner_type\",axis=1,inplace=True)"
   ]
  },
  {
   "cell_type": "code",
   "execution_count": 60,
   "metadata": {},
   "outputs": [],
   "source": [
    "# Mileage"
   ]
  },
  {
   "cell_type": "code",
   "execution_count": 61,
   "metadata": {},
   "outputs": [],
   "source": [
    "# Lets split this column into two different columns to get valuable insights"
   ]
  },
  {
   "cell_type": "code",
   "execution_count": 62,
   "metadata": {},
   "outputs": [],
   "source": [
    "cs[[\"mile\",\"param\"]]=cs.mileage.str.split(\" \",expand=True)"
   ]
  },
  {
   "cell_type": "code",
   "execution_count": 63,
   "metadata": {},
   "outputs": [
    {
     "data": {
      "text/plain": [
       "array(['km/kg', 'kmpl', nan], dtype=object)"
      ]
     },
     "execution_count": 63,
     "metadata": {},
     "output_type": "execute_result"
    }
   ],
   "source": [
    "cs.param.unique()"
   ]
  },
  {
   "cell_type": "code",
   "execution_count": 64,
   "metadata": {},
   "outputs": [],
   "source": [
    "cs.param=cs.param.fillna(cs.param.value_counts().index[0])"
   ]
  },
  {
   "cell_type": "code",
   "execution_count": 65,
   "metadata": {},
   "outputs": [
    {
     "data": {
      "text/plain": [
       "array(['km/kg', 'kmpl'], dtype=object)"
      ]
     },
     "execution_count": 65,
     "metadata": {},
     "output_type": "execute_result"
    }
   ],
   "source": [
    "cs.param.unique()"
   ]
  },
  {
   "cell_type": "code",
   "execution_count": 66,
   "metadata": {},
   "outputs": [],
   "source": [
    "# we have to apply ohe"
   ]
  },
  {
   "cell_type": "code",
   "execution_count": 67,
   "metadata": {},
   "outputs": [],
   "source": [
    "para=pd.get_dummies(cs[\"param\"],prefix=\"param_\",drop_first=False)"
   ]
  },
  {
   "cell_type": "code",
   "execution_count": 68,
   "metadata": {},
   "outputs": [],
   "source": [
    "cs=pd.concat([cs,para],axis=1)"
   ]
  },
  {
   "cell_type": "code",
   "execution_count": 69,
   "metadata": {},
   "outputs": [],
   "source": [
    "# removing param and mileage columns"
   ]
  },
  {
   "cell_type": "code",
   "execution_count": 70,
   "metadata": {},
   "outputs": [],
   "source": [
    "cs.drop(\"mileage\",axis=1,inplace=True)"
   ]
  },
  {
   "cell_type": "code",
   "execution_count": 71,
   "metadata": {},
   "outputs": [],
   "source": [
    "cs.drop(\"param\",axis=1,inplace=True)"
   ]
  },
  {
   "cell_type": "code",
   "execution_count": 72,
   "metadata": {},
   "outputs": [],
   "source": [
    "# converting mile col to float"
   ]
  },
  {
   "cell_type": "code",
   "execution_count": 73,
   "metadata": {},
   "outputs": [],
   "source": [
    "cs[\"mile\"]=pd.to_numeric(cs[\"mile\"])"
   ]
  },
  {
   "cell_type": "code",
   "execution_count": 74,
   "metadata": {},
   "outputs": [
    {
     "data": {
      "text/plain": [
       "dtype('float64')"
      ]
     },
     "execution_count": 74,
     "metadata": {},
     "output_type": "execute_result"
    }
   ],
   "source": [
    "cs.mile.dtype"
   ]
  },
  {
   "cell_type": "code",
   "execution_count": 75,
   "metadata": {},
   "outputs": [],
   "source": [
    "# engine"
   ]
  },
  {
   "cell_type": "code",
   "execution_count": 76,
   "metadata": {},
   "outputs": [
    {
     "data": {
      "text/plain": [
       "0     998 CC\n",
       "1    1582 CC\n",
       "Name: engine, dtype: object"
      ]
     },
     "execution_count": 76,
     "metadata": {},
     "output_type": "execute_result"
    }
   ],
   "source": [
    "cs.engine.head(2)"
   ]
  },
  {
   "cell_type": "code",
   "execution_count": 77,
   "metadata": {},
   "outputs": [
    {
     "data": {
      "text/plain": [
       "dtype('O')"
      ]
     },
     "execution_count": 77,
     "metadata": {},
     "output_type": "execute_result"
    }
   ],
   "source": [
    "cs.engine.dtypes"
   ]
  },
  {
   "cell_type": "code",
   "execution_count": 78,
   "metadata": {},
   "outputs": [
    {
     "data": {
      "text/plain": [
       "46"
      ]
     },
     "execution_count": 78,
     "metadata": {},
     "output_type": "execute_result"
    }
   ],
   "source": [
    "cs.engine.isna().sum()"
   ]
  },
  {
   "cell_type": "code",
   "execution_count": 79,
   "metadata": {},
   "outputs": [],
   "source": [
    "cs[[\"engine_cc\",\"cc\"]]=cs.engine.str.split(\" \",expand=True)"
   ]
  },
  {
   "cell_type": "code",
   "execution_count": 80,
   "metadata": {},
   "outputs": [],
   "source": [
    "cs.drop(\"cc\",axis=1,inplace=True)"
   ]
  },
  {
   "cell_type": "code",
   "execution_count": 81,
   "metadata": {},
   "outputs": [],
   "source": [
    "cs.drop(\"engine\",axis=1,inplace=True)"
   ]
  },
  {
   "cell_type": "code",
   "execution_count": 82,
   "metadata": {},
   "outputs": [
    {
     "data": {
      "text/plain": [
       "dtype('O')"
      ]
     },
     "execution_count": 82,
     "metadata": {},
     "output_type": "execute_result"
    }
   ],
   "source": [
    "cs.engine_cc.dtypes"
   ]
  },
  {
   "cell_type": "code",
   "execution_count": 83,
   "metadata": {},
   "outputs": [],
   "source": [
    "cs[\"engine_cc\"]=pd.to_numeric(cs[\"engine_cc\"])"
   ]
  },
  {
   "cell_type": "code",
   "execution_count": 84,
   "metadata": {},
   "outputs": [
    {
     "data": {
      "text/plain": [
       "46"
      ]
     },
     "execution_count": 84,
     "metadata": {},
     "output_type": "execute_result"
    }
   ],
   "source": [
    "cs.engine_cc.isna().sum()"
   ]
  },
  {
   "cell_type": "code",
   "execution_count": 85,
   "metadata": {},
   "outputs": [
    {
     "data": {
      "text/plain": [
       "dtype('float64')"
      ]
     },
     "execution_count": 85,
     "metadata": {},
     "output_type": "execute_result"
    }
   ],
   "source": [
    "cs.engine_cc.dtypes"
   ]
  },
  {
   "cell_type": "code",
   "execution_count": 86,
   "metadata": {},
   "outputs": [],
   "source": [
    "cs[\"engine_cc\"].fillna(cs[\"engine_cc\"].mean(),inplace=True)"
   ]
  },
  {
   "cell_type": "code",
   "execution_count": 87,
   "metadata": {},
   "outputs": [],
   "source": [
    "cs[\"engine_cc\"]=cs[\"engine_cc\"].astype(int)"
   ]
  },
  {
   "cell_type": "code",
   "execution_count": 88,
   "metadata": {},
   "outputs": [],
   "source": [
    "# power"
   ]
  },
  {
   "cell_type": "code",
   "execution_count": 89,
   "metadata": {},
   "outputs": [],
   "source": [
    "cs[[\"power_bhp\",\"bhp\"]]=cs[\"power\"].str.split(\" \",expand=True)"
   ]
  },
  {
   "cell_type": "code",
   "execution_count": 90,
   "metadata": {},
   "outputs": [],
   "source": [
    "cs.drop(\"bhp\",axis=1,inplace=True)"
   ]
  },
  {
   "cell_type": "code",
   "execution_count": 91,
   "metadata": {},
   "outputs": [],
   "source": [
    "cs.drop(\"power\",axis=1,inplace=True)"
   ]
  },
  {
   "cell_type": "code",
   "execution_count": 92,
   "metadata": {},
   "outputs": [],
   "source": [
    "cs[\"power_bhp\"].replace(\"np.nan\",\"nan\",inplace=True)"
   ]
  },
  {
   "cell_type": "code",
   "execution_count": 93,
   "metadata": {},
   "outputs": [],
   "source": [
    "cs[\"power_bhp\"].replace(\"null\",\"nan\",inplace=True)"
   ]
  },
  {
   "cell_type": "code",
   "execution_count": 94,
   "metadata": {},
   "outputs": [],
   "source": [
    "cs[\"power_bhp\"]=cs[\"power_bhp\"].astype(float)"
   ]
  },
  {
   "cell_type": "code",
   "execution_count": 95,
   "metadata": {},
   "outputs": [
    {
     "data": {
      "text/plain": [
       "dtype('float64')"
      ]
     },
     "execution_count": 95,
     "metadata": {},
     "output_type": "execute_result"
    }
   ],
   "source": [
    "cs.power_bhp.dtypes"
   ]
  },
  {
   "cell_type": "code",
   "execution_count": 96,
   "metadata": {},
   "outputs": [],
   "source": [
    "cs.power_bhp.fillna(cs.power_bhp.mean(),inplace=True)"
   ]
  },
  {
   "cell_type": "code",
   "execution_count": 97,
   "metadata": {},
   "outputs": [
    {
     "data": {
      "text/plain": [
       "0"
      ]
     },
     "execution_count": 97,
     "metadata": {},
     "output_type": "execute_result"
    }
   ],
   "source": [
    "cs.power_bhp.isna().sum()"
   ]
  },
  {
   "cell_type": "code",
   "execution_count": 98,
   "metadata": {},
   "outputs": [],
   "source": [
    "# seats"
   ]
  },
  {
   "cell_type": "code",
   "execution_count": 99,
   "metadata": {},
   "outputs": [
    {
     "data": {
      "text/plain": [
       "53"
      ]
     },
     "execution_count": 99,
     "metadata": {},
     "output_type": "execute_result"
    }
   ],
   "source": [
    "cs.seats.isna().sum()"
   ]
  },
  {
   "cell_type": "code",
   "execution_count": 100,
   "metadata": {},
   "outputs": [],
   "source": [
    "cs.seats.fillna(cs.seats.mean(),inplace=True)"
   ]
  },
  {
   "cell_type": "code",
   "execution_count": 101,
   "metadata": {},
   "outputs": [
    {
     "data": {
      "text/plain": [
       "0"
      ]
     },
     "execution_count": 101,
     "metadata": {},
     "output_type": "execute_result"
    }
   ],
   "source": [
    "cs.seats.isna().sum()"
   ]
  },
  {
   "cell_type": "code",
   "execution_count": 102,
   "metadata": {},
   "outputs": [],
   "source": [
    "cs[\"seats\"]=cs.seats.astype(int)"
   ]
  },
  {
   "cell_type": "code",
   "execution_count": 103,
   "metadata": {},
   "outputs": [
    {
     "data": {
      "text/plain": [
       "dtype('int32')"
      ]
     },
     "execution_count": 103,
     "metadata": {},
     "output_type": "execute_result"
    }
   ],
   "source": [
    "cs.seats.dtypes"
   ]
  },
  {
   "cell_type": "code",
   "execution_count": 104,
   "metadata": {},
   "outputs": [],
   "source": [
    "# Lets look at the table"
   ]
  },
  {
   "cell_type": "code",
   "execution_count": 105,
   "metadata": {},
   "outputs": [
    {
     "data": {
      "text/html": [
       "<div>\n",
       "<style scoped>\n",
       "    .dataframe tbody tr th:only-of-type {\n",
       "        vertical-align: middle;\n",
       "    }\n",
       "\n",
       "    .dataframe tbody tr th {\n",
       "        vertical-align: top;\n",
       "    }\n",
       "\n",
       "    .dataframe thead th {\n",
       "        text-align: right;\n",
       "    }\n",
       "</style>\n",
       "<table border=\"1\" class=\"dataframe\">\n",
       "  <thead>\n",
       "    <tr style=\"text-align: right;\">\n",
       "      <th></th>\n",
       "      <th>owner__Fourth &amp; Above</th>\n",
       "      <th>owner__Second</th>\n",
       "      <th>owner__Third</th>\n",
       "      <th>trans__Manual</th>\n",
       "      <th>fueltype__Diesel</th>\n",
       "      <th>fueltype__Electric</th>\n",
       "      <th>fueltype__LPG</th>\n",
       "      <th>fueltype__Petrol</th>\n",
       "      <th>name</th>\n",
       "      <th>location</th>\n",
       "      <th>year</th>\n",
       "      <th>kilometers_driven</th>\n",
       "      <th>seats</th>\n",
       "      <th>new_price</th>\n",
       "      <th>price</th>\n",
       "      <th>mile</th>\n",
       "      <th>param__km/kg</th>\n",
       "      <th>param__kmpl</th>\n",
       "      <th>engine_cc</th>\n",
       "      <th>power_bhp</th>\n",
       "    </tr>\n",
       "  </thead>\n",
       "  <tbody>\n",
       "    <tr>\n",
       "      <td>0</td>\n",
       "      <td>0</td>\n",
       "      <td>0</td>\n",
       "      <td>0</td>\n",
       "      <td>1</td>\n",
       "      <td>0</td>\n",
       "      <td>0</td>\n",
       "      <td>0</td>\n",
       "      <td>0</td>\n",
       "      <td>1310</td>\n",
       "      <td>9</td>\n",
       "      <td>2010</td>\n",
       "      <td>72000</td>\n",
       "      <td>5</td>\n",
       "      <td>NaN</td>\n",
       "      <td>1.75</td>\n",
       "      <td>26.60</td>\n",
       "      <td>1</td>\n",
       "      <td>0</td>\n",
       "      <td>998</td>\n",
       "      <td>58.16</td>\n",
       "    </tr>\n",
       "    <tr>\n",
       "      <td>1</td>\n",
       "      <td>0</td>\n",
       "      <td>0</td>\n",
       "      <td>0</td>\n",
       "      <td>1</td>\n",
       "      <td>1</td>\n",
       "      <td>0</td>\n",
       "      <td>0</td>\n",
       "      <td>0</td>\n",
       "      <td>560</td>\n",
       "      <td>10</td>\n",
       "      <td>2015</td>\n",
       "      <td>41000</td>\n",
       "      <td>5</td>\n",
       "      <td>NaN</td>\n",
       "      <td>12.50</td>\n",
       "      <td>19.67</td>\n",
       "      <td>0</td>\n",
       "      <td>1</td>\n",
       "      <td>1582</td>\n",
       "      <td>126.20</td>\n",
       "    </tr>\n",
       "    <tr>\n",
       "      <td>2</td>\n",
       "      <td>0</td>\n",
       "      <td>0</td>\n",
       "      <td>0</td>\n",
       "      <td>1</td>\n",
       "      <td>0</td>\n",
       "      <td>0</td>\n",
       "      <td>0</td>\n",
       "      <td>1</td>\n",
       "      <td>529</td>\n",
       "      <td>2</td>\n",
       "      <td>2011</td>\n",
       "      <td>46000</td>\n",
       "      <td>5</td>\n",
       "      <td>8.61 Lakh</td>\n",
       "      <td>4.50</td>\n",
       "      <td>18.20</td>\n",
       "      <td>0</td>\n",
       "      <td>1</td>\n",
       "      <td>1199</td>\n",
       "      <td>88.70</td>\n",
       "    </tr>\n",
       "  </tbody>\n",
       "</table>\n",
       "</div>"
      ],
      "text/plain": [
       "   owner__Fourth & Above  owner__Second  owner__Third  trans__Manual  \\\n",
       "0                      0              0             0              1   \n",
       "1                      0              0             0              1   \n",
       "2                      0              0             0              1   \n",
       "\n",
       "   fueltype__Diesel  fueltype__Electric  fueltype__LPG  fueltype__Petrol  \\\n",
       "0                 0                   0              0                 0   \n",
       "1                 1                   0              0                 0   \n",
       "2                 0                   0              0                 1   \n",
       "\n",
       "   name  location  year  kilometers_driven  seats  new_price  price   mile  \\\n",
       "0  1310         9  2010              72000      5        NaN   1.75  26.60   \n",
       "1   560        10  2015              41000      5        NaN  12.50  19.67   \n",
       "2   529         2  2011              46000      5  8.61 Lakh   4.50  18.20   \n",
       "\n",
       "   param__km/kg  param__kmpl  engine_cc  power_bhp  \n",
       "0             1            0        998      58.16  \n",
       "1             0            1       1582     126.20  \n",
       "2             0            1       1199      88.70  "
      ]
     },
     "execution_count": 105,
     "metadata": {},
     "output_type": "execute_result"
    }
   ],
   "source": [
    "cs.head(3)"
   ]
  },
  {
   "cell_type": "code",
   "execution_count": 106,
   "metadata": {},
   "outputs": [
    {
     "data": {
      "text/plain": [
       "owner__Fourth & Above      uint8\n",
       "owner__Second              uint8\n",
       "owner__Third               uint8\n",
       "trans__Manual              uint8\n",
       "fueltype__Diesel           uint8\n",
       "fueltype__Electric         uint8\n",
       "fueltype__LPG              uint8\n",
       "fueltype__Petrol           uint8\n",
       "name                       int32\n",
       "location                   int32\n",
       "year                       int64\n",
       "kilometers_driven          int64\n",
       "seats                      int32\n",
       "new_price                 object\n",
       "price                    float64\n",
       "mile                     float64\n",
       "param__km/kg               uint8\n",
       "param__kmpl                uint8\n",
       "engine_cc                  int32\n",
       "power_bhp                float64\n",
       "dtype: object"
      ]
     },
     "execution_count": 106,
     "metadata": {},
     "output_type": "execute_result"
    }
   ],
   "source": [
    "cs.dtypes"
   ]
  },
  {
   "cell_type": "code",
   "execution_count": 107,
   "metadata": {},
   "outputs": [
    {
     "data": {
      "text/plain": [
       "6247"
      ]
     },
     "execution_count": 107,
     "metadata": {},
     "output_type": "execute_result"
    }
   ],
   "source": [
    "cs.new_price.isna().sum()"
   ]
  },
  {
   "cell_type": "code",
   "execution_count": 108,
   "metadata": {},
   "outputs": [],
   "source": [
    "# as we have "
   ]
  },
  {
   "cell_type": "code",
   "execution_count": 109,
   "metadata": {},
   "outputs": [
    {
     "data": {
      "text/plain": [
       "(7253, 20)"
      ]
     },
     "execution_count": 109,
     "metadata": {},
     "output_type": "execute_result"
    }
   ],
   "source": [
    "cs.shape"
   ]
  },
  {
   "cell_type": "code",
   "execution_count": 110,
   "metadata": {},
   "outputs": [
    {
     "data": {
      "text/plain": [
       "86.31001827546105"
      ]
     },
     "execution_count": 110,
     "metadata": {},
     "output_type": "execute_result"
    }
   ],
   "source": [
    "5195/6019*100"
   ]
  },
  {
   "cell_type": "code",
   "execution_count": 111,
   "metadata": {},
   "outputs": [],
   "source": [
    "# as we have null values in new_price close to 87% we are dropping this col from dataset"
   ]
  },
  {
   "cell_type": "code",
   "execution_count": 112,
   "metadata": {},
   "outputs": [],
   "source": [
    "cs.drop(\"new_price\",axis=1,inplace=True)"
   ]
  },
  {
   "cell_type": "code",
   "execution_count": 113,
   "metadata": {},
   "outputs": [],
   "source": [
    "# this looks like we have got our final dataset "
   ]
  },
  {
   "cell_type": "code",
   "execution_count": 114,
   "metadata": {},
   "outputs": [
    {
     "data": {
      "text/html": [
       "<div>\n",
       "<style scoped>\n",
       "    .dataframe tbody tr th:only-of-type {\n",
       "        vertical-align: middle;\n",
       "    }\n",
       "\n",
       "    .dataframe tbody tr th {\n",
       "        vertical-align: top;\n",
       "    }\n",
       "\n",
       "    .dataframe thead th {\n",
       "        text-align: right;\n",
       "    }\n",
       "</style>\n",
       "<table border=\"1\" class=\"dataframe\">\n",
       "  <thead>\n",
       "    <tr style=\"text-align: right;\">\n",
       "      <th></th>\n",
       "      <th>owner__Fourth &amp; Above</th>\n",
       "      <th>owner__Second</th>\n",
       "      <th>owner__Third</th>\n",
       "      <th>trans__Manual</th>\n",
       "      <th>fueltype__Diesel</th>\n",
       "      <th>fueltype__Electric</th>\n",
       "      <th>fueltype__LPG</th>\n",
       "      <th>fueltype__Petrol</th>\n",
       "      <th>name</th>\n",
       "      <th>location</th>\n",
       "      <th>year</th>\n",
       "      <th>kilometers_driven</th>\n",
       "      <th>seats</th>\n",
       "      <th>price</th>\n",
       "      <th>mile</th>\n",
       "      <th>param__km/kg</th>\n",
       "      <th>param__kmpl</th>\n",
       "      <th>engine_cc</th>\n",
       "      <th>power_bhp</th>\n",
       "    </tr>\n",
       "  </thead>\n",
       "  <tbody>\n",
       "    <tr>\n",
       "      <td>0</td>\n",
       "      <td>0</td>\n",
       "      <td>0</td>\n",
       "      <td>0</td>\n",
       "      <td>1</td>\n",
       "      <td>0</td>\n",
       "      <td>0</td>\n",
       "      <td>0</td>\n",
       "      <td>0</td>\n",
       "      <td>1310</td>\n",
       "      <td>9</td>\n",
       "      <td>2010</td>\n",
       "      <td>72000</td>\n",
       "      <td>5</td>\n",
       "      <td>1.75</td>\n",
       "      <td>26.60</td>\n",
       "      <td>1</td>\n",
       "      <td>0</td>\n",
       "      <td>998</td>\n",
       "      <td>58.16</td>\n",
       "    </tr>\n",
       "    <tr>\n",
       "      <td>1</td>\n",
       "      <td>0</td>\n",
       "      <td>0</td>\n",
       "      <td>0</td>\n",
       "      <td>1</td>\n",
       "      <td>1</td>\n",
       "      <td>0</td>\n",
       "      <td>0</td>\n",
       "      <td>0</td>\n",
       "      <td>560</td>\n",
       "      <td>10</td>\n",
       "      <td>2015</td>\n",
       "      <td>41000</td>\n",
       "      <td>5</td>\n",
       "      <td>12.50</td>\n",
       "      <td>19.67</td>\n",
       "      <td>0</td>\n",
       "      <td>1</td>\n",
       "      <td>1582</td>\n",
       "      <td>126.20</td>\n",
       "    </tr>\n",
       "    <tr>\n",
       "      <td>2</td>\n",
       "      <td>0</td>\n",
       "      <td>0</td>\n",
       "      <td>0</td>\n",
       "      <td>1</td>\n",
       "      <td>0</td>\n",
       "      <td>0</td>\n",
       "      <td>0</td>\n",
       "      <td>1</td>\n",
       "      <td>529</td>\n",
       "      <td>2</td>\n",
       "      <td>2011</td>\n",
       "      <td>46000</td>\n",
       "      <td>5</td>\n",
       "      <td>4.50</td>\n",
       "      <td>18.20</td>\n",
       "      <td>0</td>\n",
       "      <td>1</td>\n",
       "      <td>1199</td>\n",
       "      <td>88.70</td>\n",
       "    </tr>\n",
       "  </tbody>\n",
       "</table>\n",
       "</div>"
      ],
      "text/plain": [
       "   owner__Fourth & Above  owner__Second  owner__Third  trans__Manual  \\\n",
       "0                      0              0             0              1   \n",
       "1                      0              0             0              1   \n",
       "2                      0              0             0              1   \n",
       "\n",
       "   fueltype__Diesel  fueltype__Electric  fueltype__LPG  fueltype__Petrol  \\\n",
       "0                 0                   0              0                 0   \n",
       "1                 1                   0              0                 0   \n",
       "2                 0                   0              0                 1   \n",
       "\n",
       "   name  location  year  kilometers_driven  seats  price   mile  param__km/kg  \\\n",
       "0  1310         9  2010              72000      5   1.75  26.60             1   \n",
       "1   560        10  2015              41000      5  12.50  19.67             0   \n",
       "2   529         2  2011              46000      5   4.50  18.20             0   \n",
       "\n",
       "   param__kmpl  engine_cc  power_bhp  \n",
       "0            0        998      58.16  \n",
       "1            1       1582     126.20  \n",
       "2            1       1199      88.70  "
      ]
     },
     "execution_count": 114,
     "metadata": {},
     "output_type": "execute_result"
    }
   ],
   "source": [
    "cs.head(3)"
   ]
  },
  {
   "cell_type": "code",
   "execution_count": 115,
   "metadata": {},
   "outputs": [
    {
     "data": {
      "text/plain": [
       "owner__Fourth & Above      uint8\n",
       "owner__Second              uint8\n",
       "owner__Third               uint8\n",
       "trans__Manual              uint8\n",
       "fueltype__Diesel           uint8\n",
       "fueltype__Electric         uint8\n",
       "fueltype__LPG              uint8\n",
       "fueltype__Petrol           uint8\n",
       "name                       int32\n",
       "location                   int32\n",
       "year                       int64\n",
       "kilometers_driven          int64\n",
       "seats                      int32\n",
       "price                    float64\n",
       "mile                     float64\n",
       "param__km/kg               uint8\n",
       "param__kmpl                uint8\n",
       "engine_cc                  int32\n",
       "power_bhp                float64\n",
       "dtype: object"
      ]
     },
     "execution_count": 115,
     "metadata": {},
     "output_type": "execute_result"
    }
   ],
   "source": [
    "cs.dtypes"
   ]
  },
  {
   "cell_type": "code",
   "execution_count": 116,
   "metadata": {},
   "outputs": [
    {
     "data": {
      "text/plain": [
       "owner__Fourth & Above       0\n",
       "owner__Second               0\n",
       "owner__Third                0\n",
       "trans__Manual               0\n",
       "fueltype__Diesel            0\n",
       "fueltype__Electric          0\n",
       "fueltype__LPG               0\n",
       "fueltype__Petrol            0\n",
       "name                        0\n",
       "location                    0\n",
       "year                        0\n",
       "kilometers_driven           0\n",
       "seats                       0\n",
       "price                    1234\n",
       "mile                        2\n",
       "param__km/kg                0\n",
       "param__kmpl                 0\n",
       "engine_cc                   0\n",
       "power_bhp                   0\n",
       "dtype: int64"
      ]
     },
     "execution_count": 116,
     "metadata": {},
     "output_type": "execute_result"
    }
   ],
   "source": [
    "cs.isna().sum()"
   ]
  },
  {
   "cell_type": "code",
   "execution_count": 117,
   "metadata": {},
   "outputs": [],
   "source": [
    "# Lets take out our test data out of this set"
   ]
  },
  {
   "cell_type": "code",
   "execution_count": 118,
   "metadata": {},
   "outputs": [],
   "source": [
    "train=cs.iloc[:6019]"
   ]
  },
  {
   "cell_type": "code",
   "execution_count": 119,
   "metadata": {},
   "outputs": [],
   "source": [
    "test=cs.iloc[6019:]"
   ]
  },
  {
   "cell_type": "code",
   "execution_count": 120,
   "metadata": {},
   "outputs": [
    {
     "data": {
      "text/html": [
       "<div>\n",
       "<style scoped>\n",
       "    .dataframe tbody tr th:only-of-type {\n",
       "        vertical-align: middle;\n",
       "    }\n",
       "\n",
       "    .dataframe tbody tr th {\n",
       "        vertical-align: top;\n",
       "    }\n",
       "\n",
       "    .dataframe thead th {\n",
       "        text-align: right;\n",
       "    }\n",
       "</style>\n",
       "<table border=\"1\" class=\"dataframe\">\n",
       "  <thead>\n",
       "    <tr style=\"text-align: right;\">\n",
       "      <th></th>\n",
       "      <th>owner__Fourth &amp; Above</th>\n",
       "      <th>owner__Second</th>\n",
       "      <th>owner__Third</th>\n",
       "      <th>trans__Manual</th>\n",
       "      <th>fueltype__Diesel</th>\n",
       "      <th>fueltype__Electric</th>\n",
       "      <th>fueltype__LPG</th>\n",
       "      <th>fueltype__Petrol</th>\n",
       "      <th>name</th>\n",
       "      <th>location</th>\n",
       "      <th>year</th>\n",
       "      <th>kilometers_driven</th>\n",
       "      <th>seats</th>\n",
       "      <th>price</th>\n",
       "      <th>mile</th>\n",
       "      <th>param__km/kg</th>\n",
       "      <th>param__kmpl</th>\n",
       "      <th>engine_cc</th>\n",
       "      <th>power_bhp</th>\n",
       "    </tr>\n",
       "  </thead>\n",
       "  <tbody>\n",
       "    <tr>\n",
       "      <td>0</td>\n",
       "      <td>0</td>\n",
       "      <td>0</td>\n",
       "      <td>0</td>\n",
       "      <td>1</td>\n",
       "      <td>0</td>\n",
       "      <td>0</td>\n",
       "      <td>0</td>\n",
       "      <td>0</td>\n",
       "      <td>1059</td>\n",
       "      <td>4</td>\n",
       "      <td>2014</td>\n",
       "      <td>40929</td>\n",
       "      <td>4</td>\n",
       "      <td>NaN</td>\n",
       "      <td>32.26</td>\n",
       "      <td>1</td>\n",
       "      <td>0</td>\n",
       "      <td>998</td>\n",
       "      <td>58.2</td>\n",
       "    </tr>\n",
       "    <tr>\n",
       "      <td>1</td>\n",
       "      <td>0</td>\n",
       "      <td>1</td>\n",
       "      <td>0</td>\n",
       "      <td>1</td>\n",
       "      <td>0</td>\n",
       "      <td>0</td>\n",
       "      <td>0</td>\n",
       "      <td>1</td>\n",
       "      <td>1049</td>\n",
       "      <td>3</td>\n",
       "      <td>2013</td>\n",
       "      <td>54493</td>\n",
       "      <td>5</td>\n",
       "      <td>NaN</td>\n",
       "      <td>24.70</td>\n",
       "      <td>0</td>\n",
       "      <td>1</td>\n",
       "      <td>796</td>\n",
       "      <td>47.3</td>\n",
       "    </tr>\n",
       "    <tr>\n",
       "      <td>2</td>\n",
       "      <td>0</td>\n",
       "      <td>0</td>\n",
       "      <td>0</td>\n",
       "      <td>1</td>\n",
       "      <td>1</td>\n",
       "      <td>0</td>\n",
       "      <td>0</td>\n",
       "      <td>0</td>\n",
       "      <td>1935</td>\n",
       "      <td>9</td>\n",
       "      <td>2017</td>\n",
       "      <td>34000</td>\n",
       "      <td>7</td>\n",
       "      <td>NaN</td>\n",
       "      <td>13.68</td>\n",
       "      <td>0</td>\n",
       "      <td>1</td>\n",
       "      <td>2393</td>\n",
       "      <td>147.8</td>\n",
       "    </tr>\n",
       "  </tbody>\n",
       "</table>\n",
       "</div>"
      ],
      "text/plain": [
       "   owner__Fourth & Above  owner__Second  owner__Third  trans__Manual  \\\n",
       "0                      0              0             0              1   \n",
       "1                      0              1             0              1   \n",
       "2                      0              0             0              1   \n",
       "\n",
       "   fueltype__Diesel  fueltype__Electric  fueltype__LPG  fueltype__Petrol  \\\n",
       "0                 0                   0              0                 0   \n",
       "1                 0                   0              0                 1   \n",
       "2                 1                   0              0                 0   \n",
       "\n",
       "   name  location  year  kilometers_driven  seats  price   mile  param__km/kg  \\\n",
       "0  1059         4  2014              40929      4    NaN  32.26             1   \n",
       "1  1049         3  2013              54493      5    NaN  24.70             0   \n",
       "2  1935         9  2017              34000      7    NaN  13.68             0   \n",
       "\n",
       "   param__kmpl  engine_cc  power_bhp  \n",
       "0            0        998       58.2  \n",
       "1            1        796       47.3  \n",
       "2            1       2393      147.8  "
      ]
     },
     "execution_count": 120,
     "metadata": {},
     "output_type": "execute_result"
    }
   ],
   "source": [
    "test.head(3)"
   ]
  },
  {
   "cell_type": "code",
   "execution_count": 121,
   "metadata": {},
   "outputs": [
    {
     "data": {
      "text/plain": [
       "owner__Fourth & Above       0\n",
       "owner__Second               0\n",
       "owner__Third                0\n",
       "trans__Manual               0\n",
       "fueltype__Diesel            0\n",
       "fueltype__Electric          0\n",
       "fueltype__LPG               0\n",
       "fueltype__Petrol            0\n",
       "name                        0\n",
       "location                    0\n",
       "year                        0\n",
       "kilometers_driven           0\n",
       "seats                       0\n",
       "price                    1234\n",
       "mile                        0\n",
       "param__km/kg                0\n",
       "param__kmpl                 0\n",
       "engine_cc                   0\n",
       "power_bhp                   0\n",
       "dtype: int64"
      ]
     },
     "execution_count": 121,
     "metadata": {},
     "output_type": "execute_result"
    }
   ],
   "source": [
    "test.isna().sum()"
   ]
  },
  {
   "cell_type": "code",
   "execution_count": 122,
   "metadata": {},
   "outputs": [
    {
     "data": {
      "text/html": [
       "<div>\n",
       "<style scoped>\n",
       "    .dataframe tbody tr th:only-of-type {\n",
       "        vertical-align: middle;\n",
       "    }\n",
       "\n",
       "    .dataframe tbody tr th {\n",
       "        vertical-align: top;\n",
       "    }\n",
       "\n",
       "    .dataframe thead th {\n",
       "        text-align: right;\n",
       "    }\n",
       "</style>\n",
       "<table border=\"1\" class=\"dataframe\">\n",
       "  <thead>\n",
       "    <tr style=\"text-align: right;\">\n",
       "      <th></th>\n",
       "      <th>owner__Fourth &amp; Above</th>\n",
       "      <th>owner__Second</th>\n",
       "      <th>owner__Third</th>\n",
       "      <th>trans__Manual</th>\n",
       "      <th>fueltype__Diesel</th>\n",
       "      <th>fueltype__Electric</th>\n",
       "      <th>fueltype__LPG</th>\n",
       "      <th>fueltype__Petrol</th>\n",
       "      <th>name</th>\n",
       "      <th>location</th>\n",
       "      <th>year</th>\n",
       "      <th>kilometers_driven</th>\n",
       "      <th>seats</th>\n",
       "      <th>price</th>\n",
       "      <th>mile</th>\n",
       "      <th>param__km/kg</th>\n",
       "      <th>param__kmpl</th>\n",
       "      <th>engine_cc</th>\n",
       "      <th>power_bhp</th>\n",
       "    </tr>\n",
       "  </thead>\n",
       "  <tbody>\n",
       "    <tr>\n",
       "      <td>0</td>\n",
       "      <td>0</td>\n",
       "      <td>0</td>\n",
       "      <td>0</td>\n",
       "      <td>1</td>\n",
       "      <td>0</td>\n",
       "      <td>0</td>\n",
       "      <td>0</td>\n",
       "      <td>0</td>\n",
       "      <td>1310</td>\n",
       "      <td>9</td>\n",
       "      <td>2010</td>\n",
       "      <td>72000</td>\n",
       "      <td>5</td>\n",
       "      <td>1.75</td>\n",
       "      <td>26.60</td>\n",
       "      <td>1</td>\n",
       "      <td>0</td>\n",
       "      <td>998</td>\n",
       "      <td>58.16</td>\n",
       "    </tr>\n",
       "    <tr>\n",
       "      <td>1</td>\n",
       "      <td>0</td>\n",
       "      <td>0</td>\n",
       "      <td>0</td>\n",
       "      <td>1</td>\n",
       "      <td>1</td>\n",
       "      <td>0</td>\n",
       "      <td>0</td>\n",
       "      <td>0</td>\n",
       "      <td>560</td>\n",
       "      <td>10</td>\n",
       "      <td>2015</td>\n",
       "      <td>41000</td>\n",
       "      <td>5</td>\n",
       "      <td>12.50</td>\n",
       "      <td>19.67</td>\n",
       "      <td>0</td>\n",
       "      <td>1</td>\n",
       "      <td>1582</td>\n",
       "      <td>126.20</td>\n",
       "    </tr>\n",
       "    <tr>\n",
       "      <td>2</td>\n",
       "      <td>0</td>\n",
       "      <td>0</td>\n",
       "      <td>0</td>\n",
       "      <td>1</td>\n",
       "      <td>0</td>\n",
       "      <td>0</td>\n",
       "      <td>0</td>\n",
       "      <td>1</td>\n",
       "      <td>529</td>\n",
       "      <td>2</td>\n",
       "      <td>2011</td>\n",
       "      <td>46000</td>\n",
       "      <td>5</td>\n",
       "      <td>4.50</td>\n",
       "      <td>18.20</td>\n",
       "      <td>0</td>\n",
       "      <td>1</td>\n",
       "      <td>1199</td>\n",
       "      <td>88.70</td>\n",
       "    </tr>\n",
       "  </tbody>\n",
       "</table>\n",
       "</div>"
      ],
      "text/plain": [
       "   owner__Fourth & Above  owner__Second  owner__Third  trans__Manual  \\\n",
       "0                      0              0             0              1   \n",
       "1                      0              0             0              1   \n",
       "2                      0              0             0              1   \n",
       "\n",
       "   fueltype__Diesel  fueltype__Electric  fueltype__LPG  fueltype__Petrol  \\\n",
       "0                 0                   0              0                 0   \n",
       "1                 1                   0              0                 0   \n",
       "2                 0                   0              0                 1   \n",
       "\n",
       "   name  location  year  kilometers_driven  seats  price   mile  param__km/kg  \\\n",
       "0  1310         9  2010              72000      5   1.75  26.60             1   \n",
       "1   560        10  2015              41000      5  12.50  19.67             0   \n",
       "2   529         2  2011              46000      5   4.50  18.20             0   \n",
       "\n",
       "   param__kmpl  engine_cc  power_bhp  \n",
       "0            0        998      58.16  \n",
       "1            1       1582     126.20  \n",
       "2            1       1199      88.70  "
      ]
     },
     "execution_count": 122,
     "metadata": {},
     "output_type": "execute_result"
    }
   ],
   "source": [
    "train.head(3)"
   ]
  },
  {
   "cell_type": "code",
   "execution_count": 123,
   "metadata": {},
   "outputs": [
    {
     "data": {
      "text/plain": [
       "owner__Fourth & Above    0\n",
       "owner__Second            0\n",
       "owner__Third             0\n",
       "trans__Manual            0\n",
       "fueltype__Diesel         0\n",
       "fueltype__Electric       0\n",
       "fueltype__LPG            0\n",
       "fueltype__Petrol         0\n",
       "name                     0\n",
       "location                 0\n",
       "year                     0\n",
       "kilometers_driven        0\n",
       "seats                    0\n",
       "price                    0\n",
       "mile                     2\n",
       "param__km/kg             0\n",
       "param__kmpl              0\n",
       "engine_cc                0\n",
       "power_bhp                0\n",
       "dtype: int64"
      ]
     },
     "execution_count": 123,
     "metadata": {},
     "output_type": "execute_result"
    }
   ],
   "source": [
    "train.isna().sum()"
   ]
  },
  {
   "cell_type": "code",
   "execution_count": 124,
   "metadata": {},
   "outputs": [
    {
     "name": "stderr",
     "output_type": "stream",
     "text": [
      "c:\\users\\acer\\appdata\\local\\programs\\python\\python36\\lib\\site-packages\\pandas\\core\\generic.py:6287: SettingWithCopyWarning: \n",
      "A value is trying to be set on a copy of a slice from a DataFrame\n",
      "\n",
      "See the caveats in the documentation: http://pandas.pydata.org/pandas-docs/stable/user_guide/indexing.html#returning-a-view-versus-a-copy\n",
      "  self._update_inplace(new_data)\n"
     ]
    }
   ],
   "source": [
    "train.mile.fillna(train.mile.mean(),inplace=True)"
   ]
  },
  {
   "cell_type": "code",
   "execution_count": 125,
   "metadata": {},
   "outputs": [
    {
     "data": {
      "text/plain": [
       "0"
      ]
     },
     "execution_count": 125,
     "metadata": {},
     "output_type": "execute_result"
    }
   ],
   "source": [
    "train.mile.isna().sum()"
   ]
  },
  {
   "cell_type": "code",
   "execution_count": 126,
   "metadata": {},
   "outputs": [],
   "source": [
    "# Dividing dataset into dependent and independent dataset"
   ]
  },
  {
   "cell_type": "code",
   "execution_count": 127,
   "metadata": {},
   "outputs": [],
   "source": [
    "y=train[\"price\"]\n",
    "x=train.drop(\"price\",axis=1)"
   ]
  },
  {
   "cell_type": "code",
   "execution_count": 128,
   "metadata": {},
   "outputs": [],
   "source": [
    "y=y*100000"
   ]
  },
  {
   "cell_type": "code",
   "execution_count": 129,
   "metadata": {},
   "outputs": [],
   "source": [
    "y=y.astype(int)"
   ]
  },
  {
   "cell_type": "code",
   "execution_count": 130,
   "metadata": {},
   "outputs": [],
   "source": [
    "# best features using extratrees"
   ]
  },
  {
   "cell_type": "code",
   "execution_count": 131,
   "metadata": {},
   "outputs": [
    {
     "name": "stderr",
     "output_type": "stream",
     "text": [
      "c:\\users\\acer\\appdata\\local\\programs\\python\\python36\\lib\\site-packages\\sklearn\\ensemble\\forest.py:245: FutureWarning: The default value of n_estimators will change from 10 in version 0.20 to 100 in 0.22.\n",
      "  \"10 in version 0.20 to 100 in 0.22.\", FutureWarning)\n"
     ]
    },
    {
     "name": "stdout",
     "output_type": "stream",
     "text": [
      "[6.30474325e-04 1.63726737e-02 3.73130743e-03 7.71480954e-03\n",
      " 1.52607694e-03 1.01067987e-04 2.77223801e-04 1.36192000e-03\n",
      " 1.65308617e-01 1.50654990e-01 1.35150332e-01 2.53680897e-01\n",
      " 1.51288971e-02 9.76915626e-02 6.11405034e-04 7.17876110e-04\n",
      " 5.76649524e-02 9.16749170e-02]\n"
     ]
    },
    {
     "data": {
      "image/png": "[encoded data removed]",
      "text/plain": [
       "<Figure size 432x288 with 1 Axes>"
      ]
     },
     "metadata": {
      "needs_background": "light"
     },
     "output_type": "display_data"
    }
   ],
   "source": [
    "model = ExtraTreesClassifier()\n",
    "model.fit(x,y)\n",
    "print(model.feature_importances_) #use inbuilt class feature_importances of tree based classifiers\n",
    "#plot graph of feature importances for better visualization\n",
    "feat_importances = pd.Series(model.feature_importances_, index=x.columns)\n",
    "feat_importances.nlargest(18).plot(kind='barh')\n",
    "plt.show()"
   ]
  },
  {
   "cell_type": "code",
   "execution_count": 132,
   "metadata": {},
   "outputs": [],
   "source": [
    "# best features using chi2"
   ]
  },
  {
   "cell_type": "code",
   "execution_count": 133,
   "metadata": {},
   "outputs": [
    {
     "name": "stdout",
     "output_type": "stream",
     "text": [
      "                    Specs      Score\n",
      "11      kilometers_driven  263921.86\n",
      "16              engine_cc     891.15\n",
      "8                    name     551.20\n",
      "17              power_bhp     115.55\n",
      "13                   mile       2.47\n",
      "9                location       1.85\n",
      "7        fueltype__Petrol       1.19\n",
      "1           owner__Second       1.10\n",
      "4        fueltype__Diesel       1.06\n",
      "3           trans__Manual       1.02\n",
      "2            owner__Third       0.99\n",
      "6           fueltype__LPG       0.95\n",
      "14           param__km/kg       0.73\n",
      "5      fueltype__Electric       0.61\n",
      "0   owner__Fourth & Above       0.51\n",
      "12                  seats       0.25\n",
      "10                   year       0.02\n",
      "15            param__kmpl       0.01\n"
     ]
    }
   ],
   "source": [
    "#apply SelectKBest class to extract top 10 best features\n",
    "bestfeatures = SelectKBest(score_func=chi2, k=18)\n",
    "fit = bestfeatures.fit(x,y)\n",
    "dfscores = pd.DataFrame(fit.scores_/1000)\n",
    "dfscores=round(dfscores,2)\n",
    "dfcolumns = pd.DataFrame(x.columns)\n",
    "#concat two dataframes for better visualization \n",
    "featureScores = pd.concat([dfcolumns,dfscores],axis=1)\n",
    "featureScores.columns = ['Specs','Score']  #naming the dataframe columns\n",
    "print(featureScores.nlargest(18,'Score'))  #print 10 best features"
   ]
  },
  {
   "cell_type": "code",
   "execution_count": 134,
   "metadata": {},
   "outputs": [],
   "source": [
    "# checking for multi collinearity using vif"
   ]
  },
  {
   "cell_type": "code",
   "execution_count": 135,
   "metadata": {},
   "outputs": [
    {
     "name": "stderr",
     "output_type": "stream",
     "text": [
      "c:\\users\\acer\\appdata\\local\\programs\\python\\python36\\lib\\site-packages\\statsmodels\\stats\\outliers_influence.py:185: RuntimeWarning: divide by zero encountered in double_scalars\n",
      "  vif = 1. / (1. - r_squared_i)\n"
     ]
    },
    {
     "name": "stdout",
     "output_type": "stream",
     "text": [
      "     VIF Factor               features\n",
      "0      1.011534  owner__Fourth & Above\n",
      "1      1.126759          owner__Second\n",
      "2      1.081416           owner__Third\n",
      "3      1.818595          trans__Manual\n",
      "4           inf       fueltype__Diesel\n",
      "5           inf     fueltype__Electric\n",
      "6      1.184983          fueltype__LPG\n",
      "7           inf       fueltype__Petrol\n",
      "8      1.129031                   name\n",
      "9      1.023358               location\n",
      "10     1.460186                   year\n",
      "11     1.054928      kilometers_driven\n",
      "12     1.764236                  seats\n",
      "13     2.566285                   mile\n",
      "14  6017.122343           param__km/kg\n",
      "15          inf            param__kmpl\n",
      "16     7.910960              engine_cc\n",
      "17     6.541216              power_bhp\n"
     ]
    }
   ],
   "source": [
    "vif = pd.DataFrame()\n",
    "vif[\"VIF Factor\"] = [variance_inflation_factor(x.values, i) for i in range(x.shape[1])]\n",
    "vif[\"features\"] = x.columns\n",
    "print(vif)"
   ]
  },
  {
   "cell_type": "code",
   "execution_count": null,
   "metadata": {},
   "outputs": [],
   "source": []
  },
  {
   "cell_type": "code",
   "execution_count": null,
   "metadata": {},
   "outputs": [],
   "source": []
  },
  {
   "cell_type": "code",
   "execution_count": null,
   "metadata": {},
   "outputs": [],
   "source": []
  },
  {
   "cell_type": "code",
   "execution_count": 136,
   "metadata": {},
   "outputs": [],
   "source": [
    "# Dividing dataset into train test split"
   ]
  },
  {
   "cell_type": "code",
   "execution_count": 137,
   "metadata": {},
   "outputs": [],
   "source": [
    "x_train,x_test,y_train,y_test=train_test_split(x,y,test_size=0.3,random_state=42)"
   ]
  },
  {
   "cell_type": "code",
   "execution_count": 138,
   "metadata": {},
   "outputs": [],
   "source": [
    "# Printing the shape of splitted dataset"
   ]
  },
  {
   "cell_type": "code",
   "execution_count": 139,
   "metadata": {},
   "outputs": [
    {
     "name": "stdout",
     "output_type": "stream",
     "text": [
      "shape of x_train is: (4213, 18)\n",
      "shape of y_train is: (4213,)\n",
      "shape of x_test is: (1806, 18)\n",
      "shape of y_test is: (1806,)\n"
     ]
    }
   ],
   "source": [
    "print(\"shape of x_train is:\",x_train.shape)\n",
    "print(\"shape of y_train is:\",y_train.shape)\n",
    "print(\"shape of x_test is:\",x_test.shape)\n",
    "print(\"shape of y_test is:\",y_test.shape)"
   ]
  },
  {
   "cell_type": "code",
   "execution_count": 140,
   "metadata": {},
   "outputs": [],
   "source": [
    "# Lets app;y ML algo and see which result best"
   ]
  },
  {
   "cell_type": "code",
   "execution_count": 141,
   "metadata": {},
   "outputs": [],
   "source": [
    "lr=LinearRegression()\n",
    "lr.fit(x_train,y_train)\n",
    "prediction=lr.predict(x_test)"
   ]
  },
  {
   "cell_type": "code",
   "execution_count": 142,
   "metadata": {},
   "outputs": [],
   "source": [
    "prediction=prediction.astype(int)"
   ]
  },
  {
   "cell_type": "code",
   "execution_count": 143,
   "metadata": {},
   "outputs": [
    {
     "data": {
      "text/plain": [
       "array([ 354608, 1374922, 1294827, ...,  378354,  843549,  695288])"
      ]
     },
     "execution_count": 143,
     "metadata": {},
     "output_type": "execute_result"
    }
   ],
   "source": [
    "prediction"
   ]
  },
  {
   "cell_type": "code",
   "execution_count": 144,
   "metadata": {},
   "outputs": [
    {
     "name": "stdout",
     "output_type": "stream",
     "text": [
      "       Actual  Predicted\n",
      "2868   575000     354608\n",
      "5924  1008000    1374922\n",
      "3764   785000    1294827\n",
      "4144   240000     505081\n",
      "2780   160000     501657\n",
      "...       ...        ...\n",
      "2576   947000    2135113\n",
      "1294   320000     484049\n",
      "1876   425000     378354\n",
      "1432   648000     843549\n",
      "3926   591000     695288\n",
      "\n",
      "[1806 rows x 2 columns]\n"
     ]
    }
   ],
   "source": [
    "output=pd.DataFrame({\"Actual\":y_test,\"Predicted\":prediction})\n",
    "print(output)"
   ]
  },
  {
   "cell_type": "code",
   "execution_count": 145,
   "metadata": {},
   "outputs": [],
   "source": [
    "# Evaluating model prediction"
   ]
  },
  {
   "cell_type": "code",
   "execution_count": 146,
   "metadata": {},
   "outputs": [
    {
     "name": "stdout",
     "output_type": "stream",
     "text": [
      "mean abs error: 391551.4772978959\n",
      "mean sq error: 67185100.86157253\n",
      "root mean sq error: 8196.651807998955\n",
      "variance score: 0.56\n",
      "Residual sum of squares: 985554570629206.25\n",
      "Slope: [ 1.50978942e+05  1.67379726e+03  1.09938724e+05 -2.28857897e+05\n",
      " -1.64937391e+05  6.34074179e+05  1.36741584e+05 -4.38641006e+05\n",
      "  9.11219114e+00 -2.12490000e+04  9.37787444e+04 -2.34401997e+00\n",
      " -1.16301616e+05 -1.94364074e+04 -3.04957833e+04  3.04957833e+04\n",
      "  1.43954757e+02  1.21869628e+04]\n",
      "Intercept: -187847201.06701222\n",
      "R2 score is: 99.99453773751456\n"
     ]
    }
   ],
   "source": [
    "print(\"mean abs error:\",mean_absolute_error(y_test,prediction))\n",
    "print(\"mean sq error:\",mean_squared_error(y_test,prediction))\n",
    "print(\"root mean sq error:\",np.sqrt(mean_squared_error(y_test,prediction)))\n",
    "print(\"variance score: %.2f\" % lr.score(x_test,y_test))\n",
    "print(\"Residual sum of squares: %.2f\"\n",
    "  % ((lr.predict(x_test) - y_test) ** 2).sum())\n",
    "print('Slope:' ,lr.coef_)\n",
    "print('Intercept:', lr.intercept_)\n",
    "print(\"R2 score is:\",r2_score(y_test,prediction)*100)"
   ]
  },
  {
   "cell_type": "code",
   "execution_count": 147,
   "metadata": {},
   "outputs": [],
   "source": [
    "# giving summary of result"
   ]
  },
  {
   "cell_type": "code",
   "execution_count": 148,
   "metadata": {},
   "outputs": [
    {
     "data": {
      "text/html": [
       "<table class=\"simpletable\">\n",
       "<caption>OLS Regression Results</caption>\n",
       "<tr>\n",
       "  <th>Dep. Variable:</th>          <td>price</td>      <th>  R-squared:         </th> <td>   0.699</td> \n",
       "</tr>\n",
       "<tr>\n",
       "  <th>Model:</th>                   <td>OLS</td>       <th>  Adj. R-squared:    </th> <td>   0.696</td> \n",
       "</tr>\n",
       "<tr>\n",
       "  <th>Method:</th>             <td>Least Squares</td>  <th>  F-statistic:       </th> <td>   259.5</td> \n",
       "</tr>\n",
       "<tr>\n",
       "  <th>Date:</th>             <td>Thu, 20 Feb 2020</td> <th>  Prob (F-statistic):</th>  <td>  0.00</td>  \n",
       "</tr>\n",
       "<tr>\n",
       "  <th>Time:</th>                 <td>22:59:15</td>     <th>  Log-Likelihood:    </th> <td> -26617.</td> \n",
       "</tr>\n",
       "<tr>\n",
       "  <th>No. Observations:</th>      <td>  1806</td>      <th>  AIC:               </th> <td>5.327e+04</td>\n",
       "</tr>\n",
       "<tr>\n",
       "  <th>Df Residuals:</th>          <td>  1789</td>      <th>  BIC:               </th> <td>5.336e+04</td>\n",
       "</tr>\n",
       "<tr>\n",
       "  <th>Df Model:</th>              <td>    16</td>      <th>                     </th>     <td> </td>    \n",
       "</tr>\n",
       "<tr>\n",
       "  <th>Covariance Type:</th>      <td>nonrobust</td>    <th>                     </th>     <td> </td>    \n",
       "</tr>\n",
       "</table>\n",
       "<table class=\"simpletable\">\n",
       "<tr>\n",
       "            <td></td>               <th>coef</th>     <th>std err</th>      <th>t</th>      <th>P>|t|</th>  <th>[0.025</th>    <th>0.975]</th>  \n",
       "</tr>\n",
       "<tr>\n",
       "  <th>owner__Fourth & Above</th> <td> 7.944e+04</td> <td>  3.1e+05</td> <td>    0.256</td> <td> 0.798</td> <td>-5.29e+05</td> <td> 6.88e+05</td>\n",
       "</tr>\n",
       "<tr>\n",
       "  <th>owner__Second</th>         <td>-1.214e+05</td> <td> 4.16e+04</td> <td>   -2.921</td> <td> 0.004</td> <td>-2.03e+05</td> <td>-3.99e+04</td>\n",
       "</tr>\n",
       "<tr>\n",
       "  <th>owner__Third</th>          <td> 8.208e+04</td> <td> 1.17e+05</td> <td>    0.703</td> <td> 0.482</td> <td>-1.47e+05</td> <td> 3.11e+05</td>\n",
       "</tr>\n",
       "<tr>\n",
       "  <th>trans__Manual</th>         <td>-3.337e+05</td> <td> 4.31e+04</td> <td>   -7.744</td> <td> 0.000</td> <td>-4.18e+05</td> <td>-2.49e+05</td>\n",
       "</tr>\n",
       "<tr>\n",
       "  <th>fueltype__Diesel</th>      <td>-4.896e+07</td> <td> 2.61e+06</td> <td>  -18.766</td> <td> 0.000</td> <td>-5.41e+07</td> <td>-4.38e+07</td>\n",
       "</tr>\n",
       "<tr>\n",
       "  <th>fueltype__Electric</th>    <td>-4.829e+07</td> <td> 2.63e+06</td> <td>  -18.357</td> <td> 0.000</td> <td>-5.34e+07</td> <td>-4.31e+07</td>\n",
       "</tr>\n",
       "<tr>\n",
       "  <th>fueltype__LPG</th>         <td> 1.658e+05</td> <td> 4.57e+05</td> <td>    0.362</td> <td> 0.717</td> <td>-7.31e+05</td> <td> 1.06e+06</td>\n",
       "</tr>\n",
       "<tr>\n",
       "  <th>fueltype__Petrol</th>      <td> -4.92e+07</td> <td> 2.61e+06</td> <td>  -18.853</td> <td> 0.000</td> <td>-5.43e+07</td> <td>-4.41e+07</td>\n",
       "</tr>\n",
       "<tr>\n",
       "  <th>name</th>                  <td>   17.9976</td> <td>   26.476</td> <td>    0.680</td> <td> 0.497</td> <td>  -33.929</td> <td>   69.924</td>\n",
       "</tr>\n",
       "<tr>\n",
       "  <th>location</th>              <td>-2.115e+04</td> <td> 4930.077</td> <td>   -4.289</td> <td> 0.000</td> <td>-3.08e+04</td> <td>-1.15e+04</td>\n",
       "</tr>\n",
       "<tr>\n",
       "  <th>year</th>                  <td> 9.744e+04</td> <td> 5190.578</td> <td>   18.772</td> <td> 0.000</td> <td> 8.73e+04</td> <td> 1.08e+05</td>\n",
       "</tr>\n",
       "<tr>\n",
       "  <th>kilometers_driven</th>     <td>    0.3422</td> <td>    0.093</td> <td>    3.673</td> <td> 0.000</td> <td>    0.159</td> <td>    0.525</td>\n",
       "</tr>\n",
       "<tr>\n",
       "  <th>seats</th>                 <td>-9.937e+04</td> <td> 2.26e+04</td> <td>   -4.389</td> <td> 0.000</td> <td>-1.44e+05</td> <td> -5.5e+04</td>\n",
       "</tr>\n",
       "<tr>\n",
       "  <th>mile</th>                  <td>-1.825e+04</td> <td> 4787.365</td> <td>   -3.812</td> <td> 0.000</td> <td>-2.76e+04</td> <td>-8861.399</td>\n",
       "</tr>\n",
       "<tr>\n",
       "  <th>param__km/kg</th>          <td>-1.954e+08</td> <td> 1.04e+07</td> <td>  -18.773</td> <td> 0.000</td> <td>-2.16e+08</td> <td>-1.75e+08</td>\n",
       "</tr>\n",
       "<tr>\n",
       "  <th>param__kmpl</th>           <td>-1.464e+08</td> <td>  7.8e+06</td> <td>  -18.774</td> <td> 0.000</td> <td>-1.62e+08</td> <td>-1.31e+08</td>\n",
       "</tr>\n",
       "<tr>\n",
       "  <th>engine_cc</th>             <td>   99.4177</td> <td>   67.769</td> <td>    1.467</td> <td> 0.143</td> <td>  -33.497</td> <td>  232.332</td>\n",
       "</tr>\n",
       "<tr>\n",
       "  <th>power_bhp</th>             <td> 1.166e+04</td> <td>  701.081</td> <td>   16.629</td> <td> 0.000</td> <td> 1.03e+04</td> <td>  1.3e+04</td>\n",
       "</tr>\n",
       "</table>\n",
       "<table class=\"simpletable\">\n",
       "<tr>\n",
       "  <th>Omnibus:</th>       <td>905.821</td> <th>  Durbin-Watson:     </th> <td>   1.950</td> \n",
       "</tr>\n",
       "<tr>\n",
       "  <th>Prob(Omnibus):</th> <td> 0.000</td>  <th>  Jarque-Bera (JB):  </th> <td>18819.911</td>\n",
       "</tr>\n",
       "<tr>\n",
       "  <th>Skew:</th>          <td> 1.871</td>  <th>  Prob(JB):          </th> <td>    0.00</td> \n",
       "</tr>\n",
       "<tr>\n",
       "  <th>Kurtosis:</th>      <td>18.365</td>  <th>  Cond. No.          </th> <td>1.62e+20</td> \n",
       "</tr>\n",
       "</table><br/><br/>Warnings:<br/>[1] Standard Errors assume that the covariance matrix of the errors is correctly specified.<br/>[2] The smallest eigenvalue is 1.94e-27. This might indicate that there are<br/>strong multicollinearity problems or that the design matrix is singular."
      ],
      "text/plain": [
       "<class 'statsmodels.iolib.summary.Summary'>\n",
       "\"\"\"\n",
       "                            OLS Regression Results                            \n",
       "==============================================================================\n",
       "Dep. Variable:                  price   R-squared:                       0.699\n",
       "Model:                            OLS   Adj. R-squared:                  0.696\n",
       "Method:                 Least Squares   F-statistic:                     259.5\n",
       "Date:                Thu, 20 Feb 2020   Prob (F-statistic):               0.00\n",
       "Time:                        22:59:15   Log-Likelihood:                -26617.\n",
       "No. Observations:                1806   AIC:                         5.327e+04\n",
       "Df Residuals:                    1789   BIC:                         5.336e+04\n",
       "Df Model:                          16                                         \n",
       "Covariance Type:            nonrobust                                         \n",
       "=========================================================================================\n",
       "                            coef    std err          t      P>|t|      [0.025      0.975]\n",
       "-----------------------------------------------------------------------------------------\n",
       "owner__Fourth & Above  7.944e+04    3.1e+05      0.256      0.798   -5.29e+05    6.88e+05\n",
       "owner__Second         -1.214e+05   4.16e+04     -2.921      0.004   -2.03e+05   -3.99e+04\n",
       "owner__Third           8.208e+04   1.17e+05      0.703      0.482   -1.47e+05    3.11e+05\n",
       "trans__Manual         -3.337e+05   4.31e+04     -7.744      0.000   -4.18e+05   -2.49e+05\n",
       "fueltype__Diesel      -4.896e+07   2.61e+06    -18.766      0.000   -5.41e+07   -4.38e+07\n",
       "fueltype__Electric    -4.829e+07   2.63e+06    -18.357      0.000   -5.34e+07   -4.31e+07\n",
       "fueltype__LPG          1.658e+05   4.57e+05      0.362      0.717   -7.31e+05    1.06e+06\n",
       "fueltype__Petrol       -4.92e+07   2.61e+06    -18.853      0.000   -5.43e+07   -4.41e+07\n",
       "name                     17.9976     26.476      0.680      0.497     -33.929      69.924\n",
       "location              -2.115e+04   4930.077     -4.289      0.000   -3.08e+04   -1.15e+04\n",
       "year                   9.744e+04   5190.578     18.772      0.000    8.73e+04    1.08e+05\n",
       "kilometers_driven         0.3422      0.093      3.673      0.000       0.159       0.525\n",
       "seats                 -9.937e+04   2.26e+04     -4.389      0.000   -1.44e+05    -5.5e+04\n",
       "mile                  -1.825e+04   4787.365     -3.812      0.000   -2.76e+04   -8861.399\n",
       "param__km/kg          -1.954e+08   1.04e+07    -18.773      0.000   -2.16e+08   -1.75e+08\n",
       "param__kmpl           -1.464e+08    7.8e+06    -18.774      0.000   -1.62e+08   -1.31e+08\n",
       "engine_cc                99.4177     67.769      1.467      0.143     -33.497     232.332\n",
       "power_bhp              1.166e+04    701.081     16.629      0.000    1.03e+04     1.3e+04\n",
       "==============================================================================\n",
       "Omnibus:                      905.821   Durbin-Watson:                   1.950\n",
       "Prob(Omnibus):                  0.000   Jarque-Bera (JB):            18819.911\n",
       "Skew:                           1.871   Prob(JB):                         0.00\n",
       "Kurtosis:                      18.365   Cond. No.                     1.62e+20\n",
       "==============================================================================\n",
       "\n",
       "Warnings:\n",
       "[1] Standard Errors assume that the covariance matrix of the errors is correctly specified.\n",
       "[2] The smallest eigenvalue is 1.94e-27. This might indicate that there are\n",
       "strong multicollinearity problems or that the design matrix is singular.\n",
       "\"\"\""
      ]
     },
     "execution_count": 148,
     "metadata": {},
     "output_type": "execute_result"
    }
   ],
   "source": [
    "model=sm.ols(formula=(y_test,x_test) ,data=train)\n",
    "fitted=model.fit()\n",
    "fitted.summary()"
   ]
  },
  {
   "cell_type": "code",
   "execution_count": 149,
   "metadata": {},
   "outputs": [],
   "source": [
    "# Plotting prediction vs actual values "
   ]
  }
 ],
 "metadata": {
  "kernelspec": {
   "display_name": "Python 3",
   "language": "python",
   "name": "python3"
  },
  "language_info": {
   "codemirror_mode": {
    "name": "ipython",
    "version": 3
   },
   "file_extension": ".py",
   "mimetype": "text/x-python",
   "name": "python",
   "nbconvert_exporter": "python",
   "pygments_lexer": "ipython3",
   "version": "3.6.5"
  }
 },
 "nbformat": 4,
 "nbformat_minor": 2
}
